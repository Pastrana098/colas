{
  "nbformat": 4,
  "nbformat_minor": 0,
  "metadata": {
    "colab": {
      "name": "ColasADT_1358",
      "provenance": []
    },
    "kernelspec": {
      "name": "python3",
      "display_name": "Python 3"
    },
    "language_info": {
      "name": "python"
    }
  },
  "cells": [
    {
      "cell_type": "code",
      "metadata": {
        "id": "5plBZtTIsteU"
      },
      "source": [
        "class QueueADT:\n",
        "    def __init__( self ):\n",
        "        self.__data = []\n",
        "\n",
        "    def is_empty( self ):\n",
        "        return len( self.__data ) == 0\n",
        "\n",
        "    def length( self ):\n",
        "        return len( self.__data )\n",
        "\n",
        "    def enqueue( self , elem ):\n",
        "        self.__data.append( elem )\n",
        "\n",
        "    def dequeue ( self ):\n",
        "        if not self.is_empty():\n",
        "            return self.__data.pop(0)\n",
        "\n",
        "    def to_string( self ):\n",
        "        for elem in self.__data:\n",
        "            print(f\"| {elem} | <--\", end=\" \") \n",
        "        print(\" \")"
      ],
      "execution_count": 11,
      "outputs": []
    },
    {
      "cell_type": "code",
      "metadata": {
        "colab": {
          "base_uri": "https://localhost:8080/"
        },
        "id": "Us7abkg2vrMo",
        "outputId": "104f5744-152f-4a5e-aba8-6a915df5e924"
      },
      "source": [
        "cola = QueueADT()\n",
        "print(\"Esta vacío?\" , cola.is_empty() )\n",
        "print(\"# de elementos\" , cola.length())\n",
        "cola.enqueue(10)\n",
        "cola.to_string()\n",
        "print(\"-.-.-.-.-.-.-.\")\n",
        "cola.enqueue(20)\n",
        "cola.enqueue(30)\n",
        "cola.enqueue(40)\n",
        "cola.to_string()\n",
        "siguiente = cola.dequeue()\n",
        "print(\"\\n Atendiendo a:\" , siguiente)\n",
        "cola.to_string()"
      ],
      "execution_count": 12,
      "outputs": [
        {
          "output_type": "stream",
          "name": "stdout",
          "text": [
            "Esta vacío? True\n",
            "# de elementos 0\n",
            "| 10 | <--  \n",
            "-.-.-.-.-.-.-.\n",
            "| 10 | <-- | 20 | <-- | 30 | <-- | 40 | <--  \n",
            "\n",
            " Atendiendo a: 10\n",
            "| 20 | <-- | 30 | <-- | 40 | <--  \n"
          ]
        }
      ]
    }
  ]
}